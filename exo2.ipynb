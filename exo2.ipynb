{
 "cells": [
  {
   "attachments": {},
   "cell_type": "markdown",
   "metadata": {},
   "source": [
    "## Exercice 2 : Classification\n",
    "On peut transformer le problème initial en un problème de classification. Par une méthode de clustering, on peut répartir les charges de chauffage et de climatisation en 3 classes :\n",
    "faibles, moyennes, élevées. Les données se répartissent alors de la manière suivante :\n",
    "| Classe | Code de la classe | Nombre d'exemples | Charges totales moyennes |\n",
    "| ------|------------------ | ---------------- | ------------------------|\n",
    "| élevée | 0 | 189 | 73.6 |\n",
    "| moyenne | 1 | 185 | 56.3 |\n",
    "| faible | 2 | 394 | 29.7 |\n",
    "\n"
   ]
  }
 ],
 "metadata": {
  "language_info": {
   "name": "python"
  },
  "orig_nbformat": 4
 },
 "nbformat": 4,
 "nbformat_minor": 2
}
